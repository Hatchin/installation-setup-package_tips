{
 "cells": [
  {
   "cell_type": "markdown",
   "metadata": {},
   "source": [
    "# Setting up Jupyter on EC2"
   ]
  },
  {
   "cell_type": "markdown",
   "metadata": {},
   "source": [
    "## 1. Launch an EC2 Instance\n",
    "\n",
    "When launching, under Security Groups open the inbound port 8888, which is used to access Jupyter.\n",
    "\n",
    "## 2. Launch the instance"
   ]
  },
  {
   "cell_type": "raw",
   "metadata": {},
   "source": [
    "PemFolder$ ssh -i \"yourPem.pem\" ec2-user@ec2-Your-IP-ADD.compute-1.amazonaws.com"
   ]
  },
  {
   "cell_type": "markdown",
   "metadata": {},
   "source": [
    "* make pem public"
   ]
  },
  {
   "cell_type": "raw",
   "metadata": {},
   "source": [
    "chmod 400 yourPem.pem"
   ]
  },
  {
   "cell_type": "markdown",
   "metadata": {},
   "source": [
    "## 3. Download Anaconda"
   ]
  },
  {
   "cell_type": "markdown",
   "metadata": {},
   "source": [
    "Go visit https://www.continuum.io/downloads to fetch the latest anaconda version. Choose the right version based on the system of EC2 and the python version you are going to use. Copy the link of command-line installer.\n",
    "\n",
    "This is the command for downloading Anaconda 5.0.1 For macOS Installer with Python 3.6:"
   ]
  },
  {
   "cell_type": "raw",
   "metadata": {},
   "source": [
    "wget https://repo.continuum.io/archive/Anaconda3-5.0.1-MacOSX-x86_64.sh"
   ]
  },
  {
   "cell_type": "markdown",
   "metadata": {},
   "source": [
    "## 4. Install Anaconda3"
   ]
  },
  {
   "cell_type": "raw",
   "metadata": {},
   "source": [
    "bash Anaconda3-5.0.1-MacOSX-x86_64.sh"
   ]
  },
  {
   "cell_type": "markdown",
   "metadata": {},
   "source": [
    "* Important: when prompted to include Anaconda into your .bashrc PATH. Type “yes”."
   ]
  },
  {
   "cell_type": "markdown",
   "metadata": {},
   "source": [
    "### if accidentally hit enter before typing “yes”..."
   ]
  },
  {
   "cell_type": "markdown",
   "metadata": {},
   "source": [
    "* test it by typing:"
   ]
  },
  {
   "cell_type": "raw",
   "metadata": {},
   "source": [
    "which Anaconda"
   ]
  },
  {
   "cell_type": "markdown",
   "metadata": {},
   "source": [
    "If it returns the location of anaconda then it is successfully added to path."
   ]
  },
  {
   "cell_type": "markdown",
   "metadata": {},
   "source": [
    "* add path manually to .bashrc file"
   ]
  },
  {
   "cell_type": "raw",
   "metadata": {},
   "source": [
    "vim .bashrc"
   ]
  },
  {
   "cell_type": "raw",
   "metadata": {},
   "source": [
    "[keyboard]i\n",
    "\n",
    "export PATH=\"/home/ec2-user/anaconda3/bin:$PATH\"\n",
    "\n",
    "[keyboard]esc\n",
    "[keyboard]:wq"
   ]
  },
  {
   "cell_type": "markdown",
   "metadata": {},
   "source": [
    "## 5.  Set Anaconda3 as your default Python environment ( if Python3 is required)"
   ]
  },
  {
   "cell_type": "raw",
   "metadata": {},
   "source": [
    "source .bashrc"
   ]
  },
  {
   "cell_type": "markdown",
   "metadata": {},
   "source": [
    "## 6. Create Jupyter/Ipython password"
   ]
  },
  {
   "cell_type": "markdown",
   "metadata": {},
   "source": [
    "access the Ipython console by typing"
   ]
  },
  {
   "cell_type": "raw",
   "metadata": {},
   "source": [
    "ipython"
   ]
  },
  {
   "cell_type": "markdown",
   "metadata": {},
   "source": [
    "in the ipython console"
   ]
  },
  {
   "cell_type": "raw",
   "metadata": {},
   "source": [
    "from IPython.lib import passwd\n",
    "passwd()"
   ]
  },
  {
   "cell_type": "markdown",
   "metadata": {},
   "source": [
    "enter password and verify it. Copy the SHA hash of password"
   ]
  },
  {
   "cell_type": "markdown",
   "metadata": {},
   "source": [
    "## 7. Configure Jupyter/Ipython server"
   ]
  },
  {
   "cell_type": "raw",
   "metadata": {},
   "source": [
    "jupyter notebook --generate-config"
   ]
  },
  {
   "cell_type": "markdown",
   "metadata": {},
   "source": [
    "### generate SSL certificate"
   ]
  },
  {
   "cell_type": "raw",
   "metadata": {},
   "source": [
    "mkdir certs; cd certs"
   ]
  },
  {
   "cell_type": "markdown",
   "metadata": {},
   "source": [
    "The following create a PEM file good for one year."
   ]
  },
  {
   "cell_type": "raw",
   "metadata": {},
   "source": [
    "sudo openssl req -x509 -nodes -days 365 -newkey rsa:1024 -keyout mycert.pem -out mycert.pem"
   ]
  },
  {
   "cell_type": "markdown",
   "metadata": {},
   "source": [
    "### Edit Jupyter configuration file\n",
    "\n",
    "back to home directory"
   ]
  },
  {
   "cell_type": "raw",
   "metadata": {},
   "source": [
    "cd"
   ]
  },
  {
   "cell_type": "raw",
   "metadata": {},
   "source": [
    "vim .jupyter/jupyter_notebook_config.py"
   ]
  },
  {
   "cell_type": "raw",
   "metadata": {},
   "source": [
    "[keyboard]i\n",
    "\n",
    "c = get_config()\n",
    "\n",
    "# Kernel config\n",
    "c.IPKernelApp.pylab = 'inline'  # if you want plotting support always in your notebook\n",
    "\n",
    "# Notebook config\n",
    "c.NotebookApp.certfile = u'/home/ec2-user/certs/mycert.pem' #location of your certificate file\n",
    "c.NotebookApp.ip = '*'\n",
    "c.NotebookApp.open_browser = False  #so that the ipython notebook does not opens up a browser by default\n",
    "c.NotebookApp.password = u'sha1:262....the copied hash here.........65f'  #edit this \n",
    "\n",
    "c.NotebookApp.port = 8888export PATH=\"/home/ec2-user/anaconda3/bin:$PATH\"\n",
    "\n",
    "[keyboard]esc\n",
    "[keyboard]:wq"
   ]
  },
  {
   "cell_type": "markdown",
   "metadata": {},
   "source": [
    "## 8. Create a folder for notebooks and start "
   ]
  },
  {
   "cell_type": "raw",
   "metadata": {},
   "source": [
    "mkdir Notebooks\n",
    "cd Notebooks"
   ]
  },
  {
   "cell_type": "raw",
   "metadata": {},
   "source": [
    "jupyter notebook"
   ]
  },
  {
   "cell_type": "markdown",
   "metadata": {},
   "source": [
    "copy the url * jupyter notebook is running at : [ip address]:8888/ * to browser"
   ]
  },
  {
   "cell_type": "code",
   "execution_count": null,
   "metadata": {
    "collapsed": true
   },
   "outputs": [],
   "source": []
  }
 ],
 "metadata": {
  "kernelspec": {
   "display_name": "Python 3",
   "language": "python",
   "name": "python3"
  },
  "language_info": {
   "codemirror_mode": {
    "name": "ipython",
    "version": 3
   },
   "file_extension": ".py",
   "mimetype": "text/x-python",
   "name": "python",
   "nbconvert_exporter": "python",
   "pygments_lexer": "ipython3",
   "version": "3.6.3"
  }
 },
 "nbformat": 4,
 "nbformat_minor": 2
}
